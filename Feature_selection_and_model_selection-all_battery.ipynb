{
 "cells": [
  {
   "cell_type": "markdown",
   "id": "e77fb106",
   "metadata": {},
   "source": [
    "# RUL and SOH Estimator\n",
    "\n",
    "## Data Description:\n",
    "\n",
    "    A set of four Li-ion batteries (# 45 - 48) were run through 3 different operational profiles (charge, discharge and impedance) at an ambient temperature of 4 deg C. \n",
    "    Charging was carried out in a constant current (CC) mode at 1.5A until the battery voltage reached 4.2V and then continued in a constant voltage (CV) mode until the charge current dropped to 20mA. \n",
    "    \"Fixed load current level of 1A\" was used and the discharge runs were stopped at 2V, 2.2V, 2.5V and 2.7V for batteries 45, 46, 47 and 48 respectively.\n",
    "    Impedance measurement was carried out through an electrochemical impedance spectroscopy (EIS) frequency sweep from 0.1Hz to 5kHz. The experiments were carried out until the capacity had reduced to 1.4Ahr (30% fade). \n",
    "    Note that there are several discharge runs where the capacity was very low. Reasons for this have not been fully analyzed.\n",
    "\n",
    "### Files:\n",
    "    B0047.mat\tData for Battery #47\n",
    "\n",
    "## Data Structure:\n",
    "    cycle-\ttop level structure array containing the charge, discharge and impedance operations\n",
    "\ttype: \toperation  type, can be charge, discharge or impedance\n",
    "\tambient_temperature:\tambient temperature (degree C)\n",
    "\ttime: \tthe date and time of the start of the cycle, in MATLAB  date vector format\n",
    "\tdata:\tdata structure containing the measurements\n",
    "#### for charge the fields are:\n",
    "\t\tVoltage_measured: \tBattery terminal voltage (Volts)\n",
    "\t\tCurrent_measured:\tBattery output current (Amps)\n",
    "\t\tTemperature_measured: \tBattery temperature (degree C)\n",
    "\t\tCurrent_charge:\t\tCurrent measured at charger (Amps)\n",
    "\t\tVoltage_charge:\t\tVoltage measured at charger (Volts)\n",
    "\t\tTime:\t\t\tTime vector for the cycle (secs)\n",
    "#### for discharge the fields are:\n",
    "\t\tVoltage_measured: \tBattery terminal voltage (Volts)\n",
    "\t\tCurrent_measured:\tBattery output current (Amps)\n",
    "\t\tTemperature_measured: \tBattery temperature (degree C)\n",
    "\t\tCurrent_charge:\t\tCurrent measured at load (Amps)\n",
    "\t\tVoltage_charge:\t\tVoltage measured at load (Volts)\n",
    "\t\tTime:\t\t\tTime vector for the cycle (secs)\n",
    "\t\tCapacity:\t\tBattery capacity (Ahr) for discharge till 2.7V\n",
    "#### for impedance the fields are:\n",
    "\t\tSense_current:\t\tCurrent in sense branch (Amps)\n",
    "\t\tBattery_current:\tCurrent in battery branch (Amps)\n",
    "\t\tCurrent_ratio:\t\tRatio of the above currents\n",
    "\t\tBattery_impedance:\tBattery impedance (Ohms) computed from raw data\n",
    "\t\tRectified_impedance:\tCalibrated and smoothed battery impedance (Ohms)\n",
    "\t\tRe:\t\t\tEstimated electrolyte resistance (Ohms)\n",
    "\t\tRct:\t\t\tEstimated charge transfer resistance (Ohms)\n",
    "##### link: https://ti.arc.nasa.gov/tech/dash/groups/pcoe/prognostic-data-repository/\n",
    "\n",
    "        DF - DataFrame\n",
    "        DT - DataType\n",
    "        MAE -Mean Absolute error \n",
    "        RMSE - Root Mean Square error"
   ]
  },
  {
   "cell_type": "markdown",
   "id": "e2e256b6",
   "metadata": {},
   "source": [
    "## Modules to be imported"
   ]
  },
  {
   "cell_type": "code",
   "execution_count": 1,
   "id": "0edeb862",
   "metadata": {},
   "outputs": [],
   "source": [
    "import scipy.io\n",
    "import pandas\n",
    "import datetime\n",
    "import numpy as np\n",
    "import seaborn as sns\n",
    "import matplotlib.pyplot as plt\n",
    "import pandas as pd\n",
    "from sklearn.model_selection import train_test_split\n",
    "from sklearn.linear_model import LinearRegression,Lasso,ElasticNet,Ridge\n",
    "from sklearn.preprocessing import MinMaxScaler,PolynomialFeatures\n",
    "from sklearn.svm import SVR\n",
    "from sklearn.metrics import r2_score,mean_absolute_error,mean_squared_error\n",
    "from math import sqrt\n",
    "\n",
    "sns.set()"
   ]
  },
  {
   "cell_type": "markdown",
   "id": "2c9a91de",
   "metadata": {},
   "source": [
    "## Battery Datasets"
   ]
  },
  {
   "cell_type": "code",
   "execution_count": 2,
   "id": "06bbedf5",
   "metadata": {},
   "outputs": [],
   "source": [
    "bat1=pd.read_csv('B0045 .csv')\n",
    "bat2=pd.read_csv('B0046 .csv')\n",
    "bat3=pd.read_csv('B0047.csv')\n",
    "bat4=pd.read_csv('B0048.csv')"
   ]
  },
  {
   "cell_type": "code",
   "execution_count": 3,
   "id": "72d37790",
   "metadata": {},
   "outputs": [
    {
     "data": {
      "text/html": [
       "<div>\n",
       "<style scoped>\n",
       "    .dataframe tbody tr th:only-of-type {\n",
       "        vertical-align: middle;\n",
       "    }\n",
       "\n",
       "    .dataframe tbody tr th {\n",
       "        vertical-align: top;\n",
       "    }\n",
       "\n",
       "    .dataframe thead th {\n",
       "        text-align: right;\n",
       "    }\n",
       "</style>\n",
       "<table border=\"1\" class=\"dataframe\">\n",
       "  <thead>\n",
       "    <tr style=\"text-align: right;\">\n",
       "      <th></th>\n",
       "      <th>Unnamed: 0</th>\n",
       "      <th>cycle</th>\n",
       "      <th>max_distemp</th>\n",
       "      <th>max_chtemp</th>\n",
       "      <th>capacity</th>\n",
       "      <th>dis_time</th>\n",
       "      <th>chr_time</th>\n",
       "      <th>Discharge_voltage</th>\n",
       "      <th>Discharge_current</th>\n",
       "      <th>Discharge_min_Threshold_voltage_time</th>\n",
       "      <th>Charging_max_Threshold_voltage_time</th>\n",
       "      <th>Discharge_min_Threshold_voltage_temp</th>\n",
       "      <th>Charging_max_Threshold_voltage_temp</th>\n",
       "      <th>SOH</th>\n",
       "      <th>RUL</th>\n",
       "    </tr>\n",
       "  </thead>\n",
       "  <tbody>\n",
       "    <tr>\n",
       "      <th>0</th>\n",
       "      <td>0</td>\n",
       "      <td>1</td>\n",
       "      <td>15.710390</td>\n",
       "      <td>8.785650</td>\n",
       "      <td>1.081979</td>\n",
       "      <td>6436.141</td>\n",
       "      <td>10803.313</td>\n",
       "      <td>2.0</td>\n",
       "      <td>1</td>\n",
       "      <td>4348.625</td>\n",
       "      <td>159.344</td>\n",
       "      <td>15.636714</td>\n",
       "      <td>4.782260</td>\n",
       "      <td>1.000000</td>\n",
       "      <td>72</td>\n",
       "    </tr>\n",
       "    <tr>\n",
       "      <th>1</th>\n",
       "      <td>1</td>\n",
       "      <td>2</td>\n",
       "      <td>16.327882</td>\n",
       "      <td>8.853130</td>\n",
       "      <td>0.927952</td>\n",
       "      <td>5650.265</td>\n",
       "      <td>10802.078</td>\n",
       "      <td>2.0</td>\n",
       "      <td>1</td>\n",
       "      <td>3851.453</td>\n",
       "      <td>147.218</td>\n",
       "      <td>16.323712</td>\n",
       "      <td>4.567414</td>\n",
       "      <td>0.857643</td>\n",
       "      <td>71</td>\n",
       "    </tr>\n",
       "    <tr>\n",
       "      <th>2</th>\n",
       "      <td>2</td>\n",
       "      <td>3</td>\n",
       "      <td>16.190453</td>\n",
       "      <td>8.776292</td>\n",
       "      <td>0.885194</td>\n",
       "      <td>5590.907</td>\n",
       "      <td>10807.688</td>\n",
       "      <td>2.0</td>\n",
       "      <td>1</td>\n",
       "      <td>3698.235</td>\n",
       "      <td>128.907</td>\n",
       "      <td>16.177597</td>\n",
       "      <td>4.385074</td>\n",
       "      <td>0.818124</td>\n",
       "      <td>70</td>\n",
       "    </tr>\n",
       "    <tr>\n",
       "      <th>3</th>\n",
       "      <td>3</td>\n",
       "      <td>4</td>\n",
       "      <td>16.445646</td>\n",
       "      <td>8.775347</td>\n",
       "      <td>0.858101</td>\n",
       "      <td>5543.610</td>\n",
       "      <td>10805.687</td>\n",
       "      <td>2.0</td>\n",
       "      <td>1</td>\n",
       "      <td>3589.813</td>\n",
       "      <td>123.312</td>\n",
       "      <td>16.445646</td>\n",
       "      <td>4.513285</td>\n",
       "      <td>0.793084</td>\n",
       "      <td>69</td>\n",
       "    </tr>\n",
       "    <tr>\n",
       "      <th>4</th>\n",
       "      <td>4</td>\n",
       "      <td>5</td>\n",
       "      <td>16.652822</td>\n",
       "      <td>8.718063</td>\n",
       "      <td>0.840935</td>\n",
       "      <td>5499.046</td>\n",
       "      <td>10804.078</td>\n",
       "      <td>2.0</td>\n",
       "      <td>1</td>\n",
       "      <td>3502.375</td>\n",
       "      <td>123.719</td>\n",
       "      <td>16.547100</td>\n",
       "      <td>3.995360</td>\n",
       "      <td>0.777219</td>\n",
       "      <td>68</td>\n",
       "    </tr>\n",
       "    <tr>\n",
       "      <th>...</th>\n",
       "      <td>...</td>\n",
       "      <td>...</td>\n",
       "      <td>...</td>\n",
       "      <td>...</td>\n",
       "      <td>...</td>\n",
       "      <td>...</td>\n",
       "      <td>...</td>\n",
       "      <td>...</td>\n",
       "      <td>...</td>\n",
       "      <td>...</td>\n",
       "      <td>...</td>\n",
       "      <td>...</td>\n",
       "      <td>...</td>\n",
       "      <td>...</td>\n",
       "      <td>...</td>\n",
       "    </tr>\n",
       "    <tr>\n",
       "      <th>64</th>\n",
       "      <td>67</td>\n",
       "      <td>68</td>\n",
       "      <td>11.147240</td>\n",
       "      <td>9.266094</td>\n",
       "      <td>1.269122</td>\n",
       "      <td>4663.907</td>\n",
       "      <td>10807.969</td>\n",
       "      <td>2.7</td>\n",
       "      <td>1</td>\n",
       "      <td>4602.078</td>\n",
       "      <td>455.390</td>\n",
       "      <td>9.860019</td>\n",
       "      <td>7.251271</td>\n",
       "      <td>0.765456</td>\n",
       "      <td>5</td>\n",
       "    </tr>\n",
       "    <tr>\n",
       "      <th>65</th>\n",
       "      <td>68</td>\n",
       "      <td>69</td>\n",
       "      <td>10.831286</td>\n",
       "      <td>9.769486</td>\n",
       "      <td>1.255514</td>\n",
       "      <td>4581.328</td>\n",
       "      <td>10809.594</td>\n",
       "      <td>2.7</td>\n",
       "      <td>1</td>\n",
       "      <td>4550.391</td>\n",
       "      <td>52.250</td>\n",
       "      <td>10.119056</td>\n",
       "      <td>5.724068</td>\n",
       "      <td>0.757248</td>\n",
       "      <td>4</td>\n",
       "    </tr>\n",
       "    <tr>\n",
       "      <th>66</th>\n",
       "      <td>69</td>\n",
       "      <td>70</td>\n",
       "      <td>11.236293</td>\n",
       "      <td>9.485689</td>\n",
       "      <td>1.251988</td>\n",
       "      <td>4553.031</td>\n",
       "      <td>10804.109</td>\n",
       "      <td>2.7</td>\n",
       "      <td>1</td>\n",
       "      <td>4537.609</td>\n",
       "      <td>334.203</td>\n",
       "      <td>10.138374</td>\n",
       "      <td>6.865545</td>\n",
       "      <td>0.755121</td>\n",
       "      <td>3</td>\n",
       "    </tr>\n",
       "    <tr>\n",
       "      <th>67</th>\n",
       "      <td>70</td>\n",
       "      <td>71</td>\n",
       "      <td>11.086170</td>\n",
       "      <td>10.803093</td>\n",
       "      <td>1.237498</td>\n",
       "      <td>4486.500</td>\n",
       "      <td>10810.344</td>\n",
       "      <td>2.7</td>\n",
       "      <td>1</td>\n",
       "      <td>4486.500</td>\n",
       "      <td>600.704</td>\n",
       "      <td>11.086170</td>\n",
       "      <td>8.605278</td>\n",
       "      <td>0.746382</td>\n",
       "      <td>2</td>\n",
       "    </tr>\n",
       "    <tr>\n",
       "      <th>68</th>\n",
       "      <td>71</td>\n",
       "      <td>72</td>\n",
       "      <td>10.751913</td>\n",
       "      <td>8.367320</td>\n",
       "      <td>1.223127</td>\n",
       "      <td>4450.625</td>\n",
       "      <td>10808.891</td>\n",
       "      <td>2.7</td>\n",
       "      <td>1</td>\n",
       "      <td>4435.047</td>\n",
       "      <td>587.407</td>\n",
       "      <td>10.154930</td>\n",
       "      <td>8.016417</td>\n",
       "      <td>0.737715</td>\n",
       "      <td>1</td>\n",
       "    </tr>\n",
       "  </tbody>\n",
       "</table>\n",
       "<p>277 rows × 15 columns</p>\n",
       "</div>"
      ],
      "text/plain": [
       "    Unnamed: 0  cycle  max_distemp  max_chtemp  capacity  dis_time   chr_time  \\\n",
       "0            0      1    15.710390    8.785650  1.081979  6436.141  10803.313   \n",
       "1            1      2    16.327882    8.853130  0.927952  5650.265  10802.078   \n",
       "2            2      3    16.190453    8.776292  0.885194  5590.907  10807.688   \n",
       "3            3      4    16.445646    8.775347  0.858101  5543.610  10805.687   \n",
       "4            4      5    16.652822    8.718063  0.840935  5499.046  10804.078   \n",
       "..         ...    ...          ...         ...       ...       ...        ...   \n",
       "64          67     68    11.147240    9.266094  1.269122  4663.907  10807.969   \n",
       "65          68     69    10.831286    9.769486  1.255514  4581.328  10809.594   \n",
       "66          69     70    11.236293    9.485689  1.251988  4553.031  10804.109   \n",
       "67          70     71    11.086170   10.803093  1.237498  4486.500  10810.344   \n",
       "68          71     72    10.751913    8.367320  1.223127  4450.625  10808.891   \n",
       "\n",
       "    Discharge_voltage  Discharge_current  \\\n",
       "0                 2.0                  1   \n",
       "1                 2.0                  1   \n",
       "2                 2.0                  1   \n",
       "3                 2.0                  1   \n",
       "4                 2.0                  1   \n",
       "..                ...                ...   \n",
       "64                2.7                  1   \n",
       "65                2.7                  1   \n",
       "66                2.7                  1   \n",
       "67                2.7                  1   \n",
       "68                2.7                  1   \n",
       "\n",
       "    Discharge_min_Threshold_voltage_time  Charging_max_Threshold_voltage_time  \\\n",
       "0                               4348.625                              159.344   \n",
       "1                               3851.453                              147.218   \n",
       "2                               3698.235                              128.907   \n",
       "3                               3589.813                              123.312   \n",
       "4                               3502.375                              123.719   \n",
       "..                                   ...                                  ...   \n",
       "64                              4602.078                              455.390   \n",
       "65                              4550.391                               52.250   \n",
       "66                              4537.609                              334.203   \n",
       "67                              4486.500                              600.704   \n",
       "68                              4435.047                              587.407   \n",
       "\n",
       "    Discharge_min_Threshold_voltage_temp  Charging_max_Threshold_voltage_temp  \\\n",
       "0                              15.636714                             4.782260   \n",
       "1                              16.323712                             4.567414   \n",
       "2                              16.177597                             4.385074   \n",
       "3                              16.445646                             4.513285   \n",
       "4                              16.547100                             3.995360   \n",
       "..                                   ...                                  ...   \n",
       "64                              9.860019                             7.251271   \n",
       "65                             10.119056                             5.724068   \n",
       "66                             10.138374                             6.865545   \n",
       "67                             11.086170                             8.605278   \n",
       "68                             10.154930                             8.016417   \n",
       "\n",
       "         SOH  RUL  \n",
       "0   1.000000   72  \n",
       "1   0.857643   71  \n",
       "2   0.818124   70  \n",
       "3   0.793084   69  \n",
       "4   0.777219   68  \n",
       "..       ...  ...  \n",
       "64  0.765456    5  \n",
       "65  0.757248    4  \n",
       "66  0.755121    3  \n",
       "67  0.746382    2  \n",
       "68  0.737715    1  \n",
       "\n",
       "[277 rows x 15 columns]"
      ]
     },
     "execution_count": 3,
     "metadata": {},
     "output_type": "execute_result"
    }
   ],
   "source": [
    "soh_df=pd.concat([bat1,bat2,bat3,bat4])\n",
    "soh_df.to_csv('dataset.csv')\n",
    "soh_df"
   ]
  },
  {
   "cell_type": "code",
   "execution_count": 30,
   "id": "a9deff5b",
   "metadata": {},
   "outputs": [
    {
     "data": {
      "text/plain": [
       "3581.188"
      ]
     },
     "execution_count": 30,
     "metadata": {},
     "output_type": "execute_result"
    }
   ],
   "source": [
    "soh_df['dis_time'].min()"
   ]
  },
  {
   "cell_type": "code",
   "execution_count": 34,
   "id": "287f8705",
   "metadata": {},
   "outputs": [
    {
     "data": {
      "text/plain": [
       "6436.141"
      ]
     },
     "execution_count": 34,
     "metadata": {},
     "output_type": "execute_result"
    }
   ],
   "source": [
    "soh_df['dis_time'].max()"
   ]
  },
  {
   "cell_type": "code",
   "execution_count": 32,
   "id": "bc94d6fe",
   "metadata": {},
   "outputs": [
    {
     "data": {
      "text/plain": [
       "2682.015"
      ]
     },
     "execution_count": 32,
     "metadata": {},
     "output_type": "execute_result"
    }
   ],
   "source": [
    "soh_df['Discharge_min_Threshold_voltage_time'].min()"
   ]
  },
  {
   "cell_type": "code",
   "execution_count": 33,
   "id": "2fa5803d",
   "metadata": {},
   "outputs": [
    {
     "data": {
      "text/plain": [
       "6436.141"
      ]
     },
     "execution_count": 33,
     "metadata": {},
     "output_type": "execute_result"
    }
   ],
   "source": [
    "soh_df['Discharge_min_Threshold_voltage_time'].max()"
   ]
  },
  {
   "cell_type": "markdown",
   "id": "29633094",
   "metadata": {},
   "source": [
    "# State of Health Prediction"
   ]
  },
  {
   "cell_type": "markdown",
   "id": "bc085018",
   "metadata": {},
   "source": [
    "## Mutual Information"
   ]
  },
  {
   "cell_type": "code",
   "execution_count": 4,
   "id": "8f2e24d8",
   "metadata": {},
   "outputs": [],
   "source": [
    "inputs=soh_df[['cycle', 'max_distemp', 'max_chtemp', 'dis_time',\n",
    "       'chr_time', 'Discharge_voltage', 'Discharge_current',\n",
    "       'Discharge_min_Threshold_voltage_time',\n",
    "       'Charging_max_Threshold_voltage_time',\n",
    "       'Discharge_min_Threshold_voltage_temp',\n",
    "       'Charging_max_Threshold_voltage_temp']]\n",
    "outputs=soh_df['SOH']"
   ]
  },
  {
   "cell_type": "code",
   "execution_count": 5,
   "id": "c46bd9f5",
   "metadata": {},
   "outputs": [
    {
     "data": {
      "text/plain": [
       "<AxesSubplot:>"
      ]
     },
     "execution_count": 5,
     "metadata": {},
     "output_type": "execute_result"
    },
    {
     "data": {
      "image/png": "[encoded data removed]",
      "text/plain": [
       "<Figure size 864x720 with 1 Axes>"
      ]
     },
     "metadata": {},
     "output_type": "display_data"
    }
   ],
   "source": [
    "from sklearn.feature_selection import mutual_info_regression\n",
    "mutal_info=mutual_info_regression(inputs,outputs)\n",
    "mutal_info=pd.Series(mutal_info)\n",
    "mutal_info.index=inputs.columns\n",
    "mutal_info.sort_values(ascending=False)\n",
    "mutal_info.sort_values(ascending=False).plot.barh(figsize=(12,10))"
   ]
  },
  {
   "cell_type": "markdown",
   "id": "e1259913",
   "metadata": {},
   "source": [
    "From above graph Discharge_min_threshold_voltage_time and dis_time is more mutual to SOH than other features. \n",
    "But Discharge_min_threshold_voltage_time gives us detailed view so we are taking this feature."
   ]
  },
  {
   "cell_type": "markdown",
   "id": "28ecb714",
   "metadata": {},
   "source": [
    "### Feature selection for SOH"
   ]
  },
  {
   "cell_type": "markdown",
   "id": "fbd3b43b",
   "metadata": {},
   "source": [
    "Features normally considered for SOH\\\n",
    "    * Voltage\\\n",
    "    * Time\\\n",
    "    * Current\\\n",
    "    * Temperature\n",
    "    \n",
    "current-constant (doesn't affect much)\\\n",
    "Temperature (Doesn't affect much because of Ambient/room temperature 4 deg celsius)\n",
    "\n",
    "    Dropping columns:\n",
    "    \n",
    "        cycle -> which is directly correlated with SOH\n",
    "        capacity -> which is as same as SOH\n",
    "        max_distemp, max_chtemp, Charging_max_Threshold_voltage_temp, Discharge_min_Threshold_voltage_temp-> Temperature factor is not affecting SOH mostly because of Ambient/room temperature 4 deg celsius it can't cause battery to heat much.\n",
    "        if Ambient is high, temperature factor will affect the SOH prediction\n",
    "        dis_time, chr_time -> we drop these features because charge, discharge voltage values doesn't give exact explaination of charging and discharging than Charging_max_Threshold_voltage and Discharge_min_Threshold_voltage.\n",
    "        \n",
    "        \n",
    "    Features selected:\n",
    "    \n",
    "        Discharge_min_Threshold_voltage_time\n",
    "        Charging_max_Threshold_voltage_time\n",
    "        Charging_max_Threshold_voltage_time(Sec) and Discharge_min_Threshold_voltage_time(Sec) both feature gives exact time taken for voltage to attain 4.2 max threshold while charging and gives exact time taken for voltage to attain 2.5 voltage drop threshold while discharging respectively which gives more detailed estimation for capacity.\n",
    "\n",
    "\n",
    "    Discharge_min_Threshold_voltage_time,Charging_max_Threshold_voltage_time are Time values with respect to voltage \n",
    "    In these we considered both Voltage and Time for charging and discharging.\n",
    "\n",
    "    SOH prediction,we cannot able to predict SOH directly.So we are going for Indirect Health Indicators(IHI) for charge,current,and temperature curves as input features and finaly we are selecting best input features in that.\n",
    "    \n",
    "    \n",
    "    Discharge_min_threshold_voltage_time is more than enough for SOH prediction, we need both charge and discharge for battery to know more about battery estimation and it is better to have both features. "
   ]
  },
  {
   "cell_type": "markdown",
   "id": "1f08d98a",
   "metadata": {},
   "source": [
    "### Discahrge_min_Threshold_voltage_time"
   ]
  },
  {
   "cell_type": "code",
   "execution_count": 6,
   "id": "a248ad92",
   "metadata": {},
   "outputs": [
    {
     "data": {
      "text/plain": [
       "<matplotlib.collections.PathCollection at 0x7fe778247970>"
      ]
     },
     "execution_count": 6,
     "metadata": {},
     "output_type": "execute_result"
    },
    {
     "data": {
      "image/png": "[encoded data removed]",
      "text/plain": [
       "<Figure size 432x288 with 1 Axes>"
      ]
     },
     "metadata": {},
     "output_type": "display_data"
    }
   ],
   "source": [
    "plt.scatter(soh_df['SOH'],soh_df['Discharge_min_Threshold_voltage_time'])\n",
    "plt.scatter(soh_df['capacity'],soh_df['Discharge_min_Threshold_voltage_time'])"
   ]
  },
  {
   "cell_type": "markdown",
   "id": "0f879af5",
   "metadata": {},
   "source": [
    "When the capacity and SOH increase Discharge_min_Threshold_voltage_time also increase.\n",
    "It is correlated with capacity and SOH.\n",
    " Discharge_min_Threshold_voltage_time(Sec) feature gives exact time taken for voltage to attain 2.5 voltage drop threshold while discharge which gives more detailed estimation for capacity.\n"
   ]
  },
  {
   "cell_type": "markdown",
   "id": "02ea24d4",
   "metadata": {},
   "source": [
    "### Charging_max_Threshold_voltage_time"
   ]
  },
  {
   "cell_type": "code",
   "execution_count": 7,
   "id": "a961814b",
   "metadata": {},
   "outputs": [
    {
     "data": {
      "text/plain": [
       "<matplotlib.collections.PathCollection at 0x7fe77823b8b0>"
      ]
     },
     "execution_count": 7,
     "metadata": {},
     "output_type": "execute_result"
    },
    {
     "data": {
      "image/png": "[encoded data removed]",
      "text/plain": [
       "<Figure size 432x288 with 1 Axes>"
      ]
     },
     "metadata": {},
     "output_type": "display_data"
    }
   ],
   "source": [
    "plt.scatter(soh_df['SOH'],soh_df['Charging_max_Threshold_voltage_time'])\n",
    "plt.scatter(soh_df['capacity'],soh_df['Charging_max_Threshold_voltage_time'])"
   ]
  },
  {
   "cell_type": "markdown",
   "id": "88eece0f",
   "metadata": {},
   "source": [
    "When the capacity and SOH increase Charging_max_Threshold_voltage_time also increase.\n",
    "It is correlated with capacity and SOH.\n",
    "\n",
    "Charging_max_Threshold_voltage_time(Sec) feature gives exact time taken for voltage to attain 4.2 max threshold while charging which gives more detailed estimation for capacity.\n"
   ]
  },
  {
   "cell_type": "markdown",
   "id": "e3b96c99",
   "metadata": {},
   "source": [
    "### Model selection for SOH"
   ]
  },
  {
   "cell_type": "markdown",
   "id": "0ded9e88",
   "metadata": {},
   "source": [
    "        Model                r2_score           Mean Absolute error(MAE)       Root mean Square error(RMSE)\n",
    "        \n",
    "        \n",
    "     \n",
    "     LinearRegression    0.99756192078892       0.0026904860747766165          0.0035585476728445882\n",
    "     \n",
    "     SVR                 0.9906417766713533     0.005747891069886788           0.006971810678756418\n",
    "     \n",
    "     Ridge               0.9693625454576208     0.010266501242172012           0.012614650502126604\n",
    "     \n",
    "     LinearRegression    0.9980478953255226     0.00239270731079238            0.0031842006989559165\n",
    "     (Polynomial Features\n",
    "     deg -2)\n",
    "     \n",
    "From above table Linear regression with polynomial features is good model because of low MAE and RMSE\n",
    "\n",
    "\n",
    "\n",
    "    "
   ]
  },
  {
   "cell_type": "markdown",
   "id": "b721cb55",
   "metadata": {},
   "source": [
    "### Linear Regression - Polynomial Features"
   ]
  },
  {
   "cell_type": "markdown",
   "id": "8d5960ee",
   "metadata": {},
   "source": [
    "Feature scaling"
   ]
  },
  {
   "cell_type": "code",
   "execution_count": 8,
   "id": "92b64182",
   "metadata": {},
   "outputs": [
    {
     "name": "stdout",
     "output_type": "stream",
     "text": [
      "Index(['Discharge_voltage', 'Discharge_min_Threshold_voltage_time'], dtype='object')\n"
     ]
    }
   ],
   "source": [
    "x=soh_df.drop(['capacity','dis_time','chr_time','cycle','max_chtemp','max_distemp','SOH','Discharge_current',\"RUL\",'Discharge_min_Threshold_voltage_temp','Charging_max_Threshold_voltage_temp','Unnamed: 0','Charging_max_Threshold_voltage_time'],axis=1)\n",
    "print(x.columns)\n",
    "y=soh_df['SOH']\n",
    "minmax=MinMaxScaler()\n",
    "x=minmax.fit_transform(x)"
   ]
  },
  {
   "cell_type": "markdown",
   "id": "45a93a93",
   "metadata": {},
   "source": [
    "Train Test Data split"
   ]
  },
  {
   "cell_type": "code",
   "execution_count": 9,
   "id": "c94f02ff",
   "metadata": {},
   "outputs": [],
   "source": [
    "x_train,x_test,y_train,y_test=train_test_split(x,y,test_size=0.15,random_state=32)"
   ]
  },
  {
   "cell_type": "markdown",
   "id": "88eb4369",
   "metadata": {},
   "source": [
    "Getting polynomial Features for X"
   ]
  },
  {
   "cell_type": "code",
   "execution_count": 10,
   "id": "b6905ba0",
   "metadata": {},
   "outputs": [],
   "source": [
    "poly_reg = PolynomialFeatures(degree=4)\n",
    "x_poly = poly_reg.fit_transform(x_train)"
   ]
  },
  {
   "cell_type": "markdown",
   "id": "e339e9e0",
   "metadata": {},
   "source": [
    "LinearRegression Model object"
   ]
  },
  {
   "cell_type": "code",
   "execution_count": 11,
   "id": "71b57366",
   "metadata": {},
   "outputs": [],
   "source": [
    "lin_reg = LinearRegression()"
   ]
  },
  {
   "cell_type": "markdown",
   "id": "08778b2e",
   "metadata": {},
   "source": [
    "Fitting model"
   ]
  },
  {
   "cell_type": "code",
   "execution_count": 12,
   "id": "04246103",
   "metadata": {},
   "outputs": [
    {
     "data": {
      "text/plain": [
       "LinearRegression()"
      ]
     },
     "execution_count": 12,
     "metadata": {},
     "output_type": "execute_result"
    }
   ],
   "source": [
    "lin_reg.fit(x_poly, y_train)"
   ]
  },
  {
   "cell_type": "markdown",
   "id": "631819f7",
   "metadata": {},
   "source": [
    "Predicting SOH for train,test and Total value"
   ]
  },
  {
   "cell_type": "code",
   "execution_count": 13,
   "id": "ab9a0e38",
   "metadata": {},
   "outputs": [],
   "source": [
    "y_pred = lin_reg.predict(poly_reg.transform(x))\n",
    "y_pred_train = lin_reg.predict(poly_reg.transform(x_train))\n",
    "y_pred_test = lin_reg.predict(poly_reg.transform(x_test))"
   ]
  },
  {
   "cell_type": "markdown",
   "id": "f131eab1",
   "metadata": {},
   "source": [
    "Calculating r2_score,MAE and RMSE"
   ]
  },
  {
   "cell_type": "code",
   "execution_count": 14,
   "id": "1ff78b96",
   "metadata": {},
   "outputs": [
    {
     "name": "stdout",
     "output_type": "stream",
     "text": [
      "r2 score train 0.9964307559153438\n",
      "r2 score test 0.9904459971466757\n",
      "r2 score  0.9959586678405902\n",
      "Root mean square error 0.005421186863186128\n",
      "mean absolute error 0.0030687038036274986\n"
     ]
    }
   ],
   "source": [
    "print('r2 score train',r2_score(y_train,y_pred_train))\n",
    "print('r2 score test',r2_score(y_test,y_pred_test))\n",
    "print('r2 score ',r2_score(y,y_pred))\n",
    "print('Root mean square error',sqrt(mean_squared_error(y,y_pred)))\n",
    "print('mean absolute error',mean_absolute_error(y,y_pred))"
   ]
  },
  {
   "cell_type": "code",
   "execution_count": 15,
   "id": "4c3a0cb3",
   "metadata": {},
   "outputs": [
    {
     "data": {
      "text/plain": [
       "<matplotlib.legend.Legend at 0x7fe7781bb5b0>"
      ]
     },
     "execution_count": 15,
     "metadata": {},
     "output_type": "execute_result"
    },
    {
     "data": {
      "image/png": "[encoded data removed]",
      "text/plain": [
       "<Figure size 432x288 with 1 Axes>"
      ]
     },
     "metadata": {},
     "output_type": "display_data"
    }
   ],
   "source": [
    "plt.plot(list(y))\n",
    "plt.plot(list(y_pred))\n",
    "plt.legend(labels=['Orginal','Predicted'])"
   ]
  },
  {
   "cell_type": "markdown",
   "id": "ce39163a",
   "metadata": {},
   "source": [
    "### Hyperparameter tuning"
   ]
  },
  {
   "cell_type": "code",
   "execution_count": 16,
   "id": "75dfc220",
   "metadata": {},
   "outputs": [
    {
     "data": {
      "text/plain": [
       "{'1': Pipeline(steps=[('t', PolynomialFeatures(degree=1)), ('m', LinearRegression())]),\n",
       " '2': Pipeline(steps=[('t', PolynomialFeatures()), ('m', LinearRegression())]),\n",
       " '3': Pipeline(steps=[('t', PolynomialFeatures(degree=3)), ('m', LinearRegression())]),\n",
       " '4': Pipeline(steps=[('t', PolynomialFeatures(degree=4)), ('m', LinearRegression())]),\n",
       " '5': Pipeline(steps=[('t', PolynomialFeatures(degree=5)), ('m', LinearRegression())]),\n",
       " '6': Pipeline(steps=[('t', PolynomialFeatures(degree=6)), ('m', LinearRegression())]),\n",
       " '7': Pipeline(steps=[('t', PolynomialFeatures(degree=7)), ('m', LinearRegression())]),\n",
       " '8': Pipeline(steps=[('t', PolynomialFeatures(degree=8)), ('m', LinearRegression())]),\n",
       " '9': Pipeline(steps=[('t', PolynomialFeatures(degree=9)), ('m', LinearRegression())]),\n",
       " '10': Pipeline(steps=[('t', PolynomialFeatures(degree=10)),\n",
       "                 ('m', LinearRegression())])}"
      ]
     },
     "execution_count": 16,
     "metadata": {},
     "output_type": "execute_result"
    }
   ],
   "source": [
    "from sklearn.model_selection import cross_val_score\n",
    "from sklearn.model_selection import RepeatedKFold,GridSearchCV\n",
    "from sklearn.pipeline import Pipeline\n",
    "models = dict()\n",
    "for d in range(1,11):\n",
    "# define the pipeline\n",
    "    trans = PolynomialFeatures(degree=d)\n",
    "    model = LinearRegression()\n",
    "    models[str(d)] = Pipeline(steps=[('t', trans), ('m', model)])\n",
    "models"
   ]
  },
  {
   "cell_type": "markdown",
   "id": "24a95cd9",
   "metadata": {},
   "source": [
    "Setting pipeline for degrees in polynomial feature"
   ]
  },
  {
   "cell_type": "code",
   "execution_count": 17,
   "id": "b45d80e9",
   "metadata": {},
   "outputs": [
    {
     "name": "stdout",
     "output_type": "stream",
     "text": [
      "Degree: 1 , Score : 0.6492141107870043 , n_splits: 30\n",
      "Degree: 2 , Score : 0.847114925933245 , n_splits: 30\n",
      "Degree: 3 , Score : 0.9940646257083762 , n_splits: 30\n",
      "Degree: 4 , Score : 0.9941047739496361 , n_splits: 30\n",
      "Degree: 5 , Score : 0.9939118526021636 , n_splits: 30\n",
      "Degree: 6 , Score : 0.98573676171598 , n_splits: 30\n",
      "Degree: 7 , Score : 0.16028355387171436 , n_splits: 30\n",
      "Degree: 8 , Score : -0.6501816796081086 , n_splits: 30\n",
      "Degree: 9 , Score : -73.83393769915389 , n_splits: 30\n",
      "Degree: 10 , Score : -3941.862369912054 , n_splits: 30\n"
     ]
    }
   ],
   "source": [
    "def evaluate_model(model, x, y):   \n",
    "    cv = RepeatedKFold(n_splits=10, n_repeats=3, random_state=1)\n",
    "    parameters = {}\n",
    "    search = GridSearchCV(model, parameters, n_jobs=-1, cv=cv)\n",
    "    result = search.fit(x, y)\n",
    "    return result\n",
    "\n",
    "\n",
    "# evaluate the models and store results\n",
    "results, names = list(), list()\n",
    "for name, model in models.items():\n",
    "    scores = evaluate_model(model, x, y)\n",
    "    print(\"Degree:\",name,', Score :',scores.best_score_,', n_splits:',scores.n_splits_)"
   ]
  },
  {
   "cell_type": "markdown",
   "id": "f8bc096e",
   "metadata": {},
   "source": [
    "From above shell we can say degree - 2 is best "
   ]
  },
  {
   "cell_type": "markdown",
   "id": "1884736c",
   "metadata": {},
   "source": [
    "# Remaining Cycle Prediction"
   ]
  },
  {
   "cell_type": "markdown",
   "id": "8861a3cb",
   "metadata": {},
   "source": [
    "## Mutual Information"
   ]
  },
  {
   "cell_type": "code",
   "execution_count": 18,
   "id": "f395133a",
   "metadata": {},
   "outputs": [],
   "source": [
    "inputs=soh_df[[ 'max_distemp', 'max_chtemp', 'dis_time',\n",
    "       'chr_time', 'Discharge_voltage', 'Discharge_current',\n",
    "       'Discharge_min_Threshold_voltage_time',\n",
    "       'Charging_max_Threshold_voltage_time',\n",
    "       'Discharge_min_Threshold_voltage_temp',\n",
    "       'Charging_max_Threshold_voltage_temp',\"SOH\"]]\n",
    "outputs=soh_df['RUL']"
   ]
  },
  {
   "cell_type": "code",
   "execution_count": 19,
   "id": "7a59ab39",
   "metadata": {},
   "outputs": [
    {
     "data": {
      "text/plain": [
       "<AxesSubplot:>"
      ]
     },
     "execution_count": 19,
     "metadata": {},
     "output_type": "execute_result"
    },
    {
     "data": {
      "image/png": "[encoded data removed]",
      "text/plain": [
       "<Figure size 864x720 with 1 Axes>"
      ]
     },
     "metadata": {},
     "output_type": "display_data"
    }
   ],
   "source": [
    "from sklearn.feature_selection import mutual_info_regression\n",
    "mutal_info=mutual_info_regression(inputs,outputs)\n",
    "mutal_info=pd.Series(mutal_info)\n",
    "mutal_info.index=inputs.columns\n",
    "mutal_info.sort_values(ascending=False)\n",
    "mutal_info.sort_values(ascending=False).plot.barh(figsize=(12,10))"
   ]
  },
  {
   "cell_type": "markdown",
   "id": "ff948083",
   "metadata": {},
   "source": [
    "From above graph Discharge_min_threshold_voltage_time and dis_time is more mutual to RUL than other features. \n",
    "But Discharge_min_threshold_voltage_time gives us detailed view so we are taking this feature."
   ]
  },
  {
   "cell_type": "markdown",
   "id": "d74db069",
   "metadata": {},
   "source": [
    "### Feature selection for RUC\n"
   ]
  },
  {
   "cell_type": "markdown",
   "id": "36e15ac9",
   "metadata": {},
   "source": [
    "Features normally considered for RUC\\\n",
    "    * Voltage\\\n",
    "    * Time\\\n",
    "    * Current\\\n",
    "    * Temperature\\\n",
    "    * Capacity\n",
    "    \n",
    "current-constant (doesn't affect much)\\\n",
    "Temperature (Doesn't affect much because of Ambient/room temperature 4 deg celsius)\n",
    "\n",
    "    Dropping columns:\n",
    "    \n",
    "        cycle -> which is directly correlated with RUL\n",
    "        max_distemp, max_chtemp, Charging_max_Threshold_voltage_temp, Discharge_min_Threshold_voltage_temp-> Temperature factor is not affecting SOH mostly because of Ambient/room temperature 4 deg celsius it can't cause battery to heat much.\n",
    "        if Ambient is high, temperature factor will affect the SOH prediction\n",
    "        chr_time -> we drop these features because charge, discharge voltage values doesn't give exact explaination of charging and discharging than Charging_max_Threshold_voltage and Discharge_min_Threshold_voltage.\n",
    "        \n",
    "        \n",
    "        \n",
    "    Features selected:\n",
    "        \n",
    "        capacity is required but we are using SOH because which is as same as capacity.\n",
    "        so SOH Feature is more than enough to predict the model.\n",
    "        Discharge_min_Threshold_voltage_time\n",
    "        Charging_max_Threshold_voltage_time\n",
    "        Charging_max_Threshold_voltage_time(Sec) and Discharge_min_Threshold_voltage_time(Sec) both feature gives exact time taken for voltage to attain 4.2 max threshold while charging and gives exact time taken for voltage to attain 2.5 voltage drop threshold while discharging respectively which gives more detailed estimation for capacity.\n",
    "\n",
    "\n",
    "Discharge_min_Threshold_voltage_time,Charging_max_Threshold_voltage_time are Time values with respect to voltage \n",
    "In these we considered both Voltage and Time for charging and discharging."
   ]
  },
  {
   "cell_type": "markdown",
   "id": "f3d6c2ae",
   "metadata": {},
   "source": [
    "### Cycle vs Capacity"
   ]
  },
  {
   "cell_type": "code",
   "execution_count": 20,
   "id": "ec83fd40",
   "metadata": {},
   "outputs": [
    {
     "data": {
      "image/png": "[encoded data removed]",
      "text/plain": [
       "<Figure size 432x288 with 1 Axes>"
      ]
     },
     "metadata": {},
     "output_type": "display_data"
    }
   ],
   "source": [
    "plt.plot(soh_df['cycle'],soh_df['capacity'])\n",
    "plt.show()"
   ]
  },
  {
   "cell_type": "markdown",
   "id": "bae5e2a9",
   "metadata": {},
   "source": [
    "The discharge capacity of the battery cells cycled at different cycling number shows that the battery’s performances become worse with the increasing of cycling number."
   ]
  },
  {
   "cell_type": "code",
   "execution_count": 21,
   "id": "4839f99e",
   "metadata": {},
   "outputs": [
    {
     "data": {
      "image/png": "[encoded data removed]",
      "text/plain": [
       "<Figure size 432x288 with 1 Axes>"
      ]
     },
     "metadata": {},
     "output_type": "display_data"
    }
   ],
   "source": [
    "plt.plot(soh_df['cycle'],soh_df['Discharge_min_Threshold_voltage_time'],label='Discharge_min_Threshold_voltage_time')\n",
    "plt.plot(soh_df['cycle'],soh_df['Charging_max_Threshold_voltage_time'],label='Charging_max_Threshold_voltage_time')\n",
    "plt.legend(labels=['Discharge_min_Threshold_voltage_time','Charging_max_Threshold_voltage_time'])\n",
    "plt.show()"
   ]
  },
  {
   "cell_type": "markdown",
   "id": "cbe89cae",
   "metadata": {},
   "source": [
    "The diagram shows the continuous reduction in minimum threshold voltage time of discharging with respective cycle.So cycle depends on minimum threshold voltage too.\n",
    "This picture shows the gradual decrease in maximum threshold voltage time of charging with respective cycle.So cycle depends on maximum threshold voltage"
   ]
  },
  {
   "cell_type": "markdown",
   "id": "8e16cd30",
   "metadata": {},
   "source": [
    "### Model selection for SOH"
   ]
  },
  {
   "cell_type": "markdown",
   "id": "32c3e31d",
   "metadata": {},
   "source": [
    "        Model                r2_score           Mean Absolute error(MAE)       Root mean Square error(RMSE)\n",
    "        \n",
    "        \n",
    "     \n",
    "     LinearRegression    0.8509796174988952     6.196367128165051              8.000302077948735\n",
    "     \n",
    "     SVR                 0.17236536161325533    16.197060498562497             18.853972874667864\n",
    "     \n",
    "     SVR(linear)         0.7474845507784984     6.854289933884003              10.414238649540584\n",
    "     \n",
    "     SVR(poly)           0.591608072321542      10.276147454218194             13.244089996751326\n",
    "     \n",
    "     SVR(rbf)            0.898527711786203      4.220919979033104              6.601722660229034\n",
    "     \n",
    "     Ridge               0.7860445780525692     7.009061952134607              9.586171556006965\n",
    "     \n",
    "     Lasso               0.7860070259108836     7.0093710681045405             9.587012772077065\n",
    "     \n",
    "     ElasticNet          0.785996657821251      7.009566070393674              9.587245017561282\n",
    "     \n",
    "     LinearRegression    0.8988387955474056     4.442995733473573              6.591595436489932\n",
    "     (Polynomial Features\n",
    "     deg -2)\n",
    "     \n",
    "     \n",
    "    \n",
    "    1)From above table SVR(rbf) and polynomial regression had higher r2_score have more over same r2_score.\n",
    "    2)While Predicting Dynamic data SVR gives better prediction value then polynomial regression. "
   ]
  },
  {
   "cell_type": "markdown",
   "id": "94d7eb25",
   "metadata": {},
   "source": [
    "### SVR"
   ]
  },
  {
   "cell_type": "markdown",
   "id": "41872fc5",
   "metadata": {},
   "source": [
    "Feature scaling"
   ]
  },
  {
   "cell_type": "code",
   "execution_count": 22,
   "id": "fca7217e",
   "metadata": {},
   "outputs": [
    {
     "name": "stdout",
     "output_type": "stream",
     "text": [
      "Index(['dis_time', 'Discharge_voltage', 'Discharge_min_Threshold_voltage_time',\n",
      "       'SOH'],\n",
      "      dtype='object')\n"
     ]
    }
   ],
   "source": [
    "x=soh_df.drop(['capacity','chr_time','cycle','max_chtemp','max_distemp','Discharge_current',\"RUL\",'Discharge_min_Threshold_voltage_temp','Charging_max_Threshold_voltage_temp','Unnamed: 0','Charging_max_Threshold_voltage_time'],axis=1)\n",
    "print(x.columns)\n",
    "y=soh_df['RUL']\n",
    "minmax=MinMaxScaler()\n",
    "x=minmax.fit_transform(x)"
   ]
  },
  {
   "cell_type": "markdown",
   "id": "b1444094",
   "metadata": {},
   "source": [
    "Train Test Data split"
   ]
  },
  {
   "cell_type": "code",
   "execution_count": 23,
   "id": "f67536d7",
   "metadata": {},
   "outputs": [],
   "source": [
    "x_train,x_test,y_train,y_test=train_test_split(x,y,test_size=0.15,random_state=32)"
   ]
  },
  {
   "cell_type": "markdown",
   "id": "1977db87",
   "metadata": {},
   "source": [
    "Hyper tuning"
   ]
  },
  {
   "cell_type": "code",
   "execution_count": 24,
   "id": "587c3add",
   "metadata": {},
   "outputs": [
    {
     "data": {
      "text/plain": [
       "'cv = RepeatedKFold(n_splits=10, n_repeats=3, random_state=1)\\n# Parameters for tuning\\nparameters = [{\\'kernel\\': [\\'rbf\\',\\'linear\\',\\'poly\\'], \\'epsilon\\':[0.1,1,0.01,0.001,10,0.0001],\\'gamma\\': [1e-4, 1e-3, 0.01, 0.1, 0.2, 0.5, 0.6, 0.7,0.8,0.9],\\'C\\': [1, 10, 100, 1000, 10000,0.1]}]\\nprint(\"Tuning hyper-parameters\")\\nsvr = GridSearchCV(SVR(), parameters, cv = cv)\\nsvr.fit(x, y)\\nsvr.best_params_'"
      ]
     },
     "execution_count": 24,
     "metadata": {},
     "output_type": "execute_result"
    }
   ],
   "source": [
    "cv = RepeatedKFold(n_splits=10, n_repeats=3, random_state=1)\n",
    "# Parameters for tuning\n",
    "parameters = [{'kernel': ['rbf','linear','poly'], 'epsilon':[0.1,1,0.01,0.001,10,0.0001],'gamma': [1e-4, 1e-3, 0.01, 0.1, 0.2, 0.5, 0.6, 0.7,0.8,0.9],'C': [1, 10, 100, 1000, 10000,0.1]}]\n",
    "print(\"Tuning hyper-parameters\")\n",
    "svr = GridSearchCV(SVR(), parameters, cv = cv)\n",
    "svr.fit(x, y)\n",
    "svr.best_params_"
   ]
  },
  {
   "cell_type": "markdown",
   "id": "0477e9d8",
   "metadata": {},
   "source": [
    "LinearRegression Model object"
   ]
  },
  {
   "cell_type": "code",
   "execution_count": 25,
   "id": "429a8068",
   "metadata": {},
   "outputs": [],
   "source": [
    "svr = SVR(kernel='rbf',epsilon=1,C=10000,gamma=0.9)"
   ]
  },
  {
   "cell_type": "markdown",
   "id": "f0aa89a0",
   "metadata": {},
   "source": [
    "Fitting model"
   ]
  },
  {
   "cell_type": "code",
   "execution_count": 26,
   "id": "d8b15406",
   "metadata": {},
   "outputs": [
    {
     "data": {
      "text/plain": [
       "SVR(C=10000, epsilon=1, gamma=0.9)"
      ]
     },
     "execution_count": 26,
     "metadata": {},
     "output_type": "execute_result"
    }
   ],
   "source": [
    "svr.fit(x_train, y_train)"
   ]
  },
  {
   "cell_type": "markdown",
   "id": "8a432c53",
   "metadata": {},
   "source": [
    "Predicting SOH for train,test and Total value"
   ]
  },
  {
   "cell_type": "code",
   "execution_count": 27,
   "id": "2f24c9d5",
   "metadata": {},
   "outputs": [],
   "source": [
    "y_pred = svr.predict(x)\n",
    "y_pred_train = svr.predict(x_train)\n",
    "y_pred_test = svr.predict(x_test)"
   ]
  },
  {
   "cell_type": "markdown",
   "id": "13e78175",
   "metadata": {},
   "source": [
    "Calculating r2_score,MAE and RMSE"
   ]
  },
  {
   "cell_type": "code",
   "execution_count": 28,
   "id": "c307fb4c",
   "metadata": {},
   "outputs": [
    {
     "name": "stdout",
     "output_type": "stream",
     "text": [
      "r2 score train 0.9215492962231382\n",
      "r2 score test 0.9127548849622444\n",
      "r2 score  0.920888588727143\n",
      "Root mean square error 5.8264568623920185\n",
      "mean absolute error 3.6312734685365595\n"
     ]
    }
   ],
   "source": [
    "print('r2 score train',r2_score(y_train,y_pred_train))\n",
    "print('r2 score test',r2_score(y_test,y_pred_test))\n",
    "print('r2 score ',r2_score(y,y_pred))\n",
    "print('Root mean square error',sqrt(mean_squared_error(y,y_pred)))\n",
    "print('mean absolute error',mean_absolute_error(y,y_pred))"
   ]
  },
  {
   "cell_type": "code",
   "execution_count": 29,
   "id": "d5377ee0",
   "metadata": {},
   "outputs": [
    {
     "data": {
      "text/plain": [
       "<matplotlib.legend.Legend at 0x7fe777d37880>"
      ]
     },
     "execution_count": 29,
     "metadata": {},
     "output_type": "execute_result"
    },
    {
     "data": {
      "image/png": "[encoded data removed]",
      "text/plain": [
       "<Figure size 432x288 with 1 Axes>"
      ]
     },
     "metadata": {},
     "output_type": "display_data"
    }
   ],
   "source": [
    "plt.plot(list(y))\n",
    "plt.plot(list(y_pred))\n",
    "plt.legend(labels=['Orginal','Predicted'])"
   ]
  },
  {
   "cell_type": "markdown",
   "id": "17923edd",
   "metadata": {},
   "source": [
    "# END "
   ]
  }
 ],
 "metadata": {
  "kernelspec": {
   "display_name": "Python 3.8.5 64-bit ('base': conda)",
   "language": "python",
   "name": "python385jvsc74a57bd04f755958ddc989968f49faee9f7e36c13e97c018b1c05b043dbc3872e1a76972"
  },
  "language_info": {
   "codemirror_mode": {
    "name": "ipython",
    "version": 3
   },
   "file_extension": ".py",
   "mimetype": "text/x-python",
   "name": "python",
   "nbconvert_exporter": "python",
   "pygments_lexer": "ipython3",
   "version": "3.8.5"
  }
 },
 "nbformat": 4,
 "nbformat_minor": 5
}

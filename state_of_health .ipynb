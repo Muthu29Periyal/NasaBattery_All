{
 "cells": [
  {
   "cell_type": "markdown",
   "id": "3fc3043f",
   "metadata": {},
   "source": [
    "# State of Health model"
   ]
  },
  {
   "cell_type": "code",
   "execution_count": 1,
   "id": "d67f0d7e",
   "metadata": {},
   "outputs": [
    {
     "name": "stdout",
     "output_type": "stream",
     "text": [
      "r2 score  0.9959586678405902\n",
      "Root mean square error 0.0054211868631861265\n",
      "mean absolute error 0.003068703803627498\n"
     ]
    }
   ],
   "source": [
    "import pickle\n",
    "import pandas as pd\n",
    "import numpy as np\n",
    "from math import sqrt\n",
    "from sklearn.linear_model import LinearRegression\n",
    "from sklearn.preprocessing import PolynomialFeatures,MinMaxScaler\n",
    "from sklearn.model_selection import train_test_split\n",
    "from sklearn.metrics import r2_score,mean_absolute_error,mean_squared_error\n",
    "\n",
    "\n",
    "def linear_model(x,y,degree):\n",
    "    #scaling\n",
    "    minmax=MinMaxScaler()\n",
    "    x=minmax.fit_transform(x)\n",
    "    #Train_test_split\n",
    "    x_train,x_test,y_train,y_test=train_test_split(x,y,test_size=0.15,random_state=32)\n",
    "    poly_reg = PolynomialFeatures(degree=degree)\n",
    "    x_poly = poly_reg.fit_transform(x_train)\n",
    "    lin_reg = LinearRegression()\n",
    "    lin_reg.fit(x_poly, y_train)\n",
    "    y_pred = lin_reg.predict(poly_reg.transform(x))\n",
    "    print('r2 score ',r2_score(y,y_pred))\n",
    "    print('Root mean square error',sqrt(mean_squared_error(y,y_pred)))\n",
    "    print('mean absolute error',mean_absolute_error(y,y_pred))\n",
    "    return lin_reg,poly_reg,minmax\n",
    "\n",
    "\n",
    "df = pd.read_csv('dataset.csv')\n",
    "x=df[['Discharge_voltage','Discharge_min_Threshold_voltage_time']]\n",
    "y=df['SOH']\n",
    "degree=4\n",
    "model,scalar,minmax=linear_model(x,y,degree)"
   ]
  },
  {
   "cell_type": "markdown",
   "id": "7dfc00ed",
   "metadata": {},
   "source": [
    "## Saving model"
   ]
  },
  {
   "cell_type": "code",
   "execution_count": 2,
   "id": "75935adc",
   "metadata": {},
   "outputs": [],
   "source": [
    "pickle.dump(model, open(\"model/state_of_health.pkl\", 'wb'))\n",
    "pickle.dump(scalar, open(\"model/state_of_health_poly_reg.pkl\", 'wb'))\n",
    "pickle.dump(minmax, open(\"model/state_of_health_minmax.pkl\", 'wb'))"
   ]
  },
  {
   "cell_type": "code",
   "execution_count": null,
   "id": "8d310aa5",
   "metadata": {},
   "outputs": [],
   "source": []
  }
 ],
 "metadata": {
  "interpreter": {
   "hash": "4f755958ddc989968f49faee9f7e36c13e97c018b1c05b043dbc3872e1a76972"
  },
  "kernelspec": {
   "display_name": "Python 3",
   "language": "python",
   "name": "python3"
  },
  "language_info": {
   "codemirror_mode": {
    "name": "ipython",
    "version": 3
   },
   "file_extension": ".py",
   "mimetype": "text/x-python",
   "name": "python",
   "nbconvert_exporter": "python",
   "pygments_lexer": "ipython3",
   "version": "3.8.5"
  }
 },
 "nbformat": 4,
 "nbformat_minor": 5
}
